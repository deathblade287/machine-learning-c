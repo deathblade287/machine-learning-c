{
 "cells": [
  {
   "cell_type": "code",
   "execution_count": 3,
   "id": "0f8b97cb-2f9c-4694-b1e6-6400e2140c26",
   "metadata": {},
   "outputs": [],
   "source": [
    "import pandas as pd\n",
    "import matplotlib.pyplot as plt\n",
    "import numpy as np"
   ]
  },
  {
   "cell_type": "code",
   "execution_count": 5,
   "id": "d415fc99-dc73-4530-a3f9-918117b50720",
   "metadata": {},
   "outputs": [
    {
     "data": {
      "text/plain": [
       "array([[149, 106,  16],\n",
       "       [130,  97,  22]])"
      ]
     },
     "execution_count": 5,
     "metadata": {},
     "output_type": "execute_result"
    }
   ],
   "source": [
    "# x = np.arange(4*5, 4*(27+5), 2).reshape((9, 6))\n",
    "\n",
    "df = np.random.randint(0, 200, (2, 3))\n",
    "df"
   ]
  },
  {
   "cell_type": "code",
   "execution_count": 7,
   "id": "63c37a56-f654-4511-86fe-434c19ef935e",
   "metadata": {},
   "outputs": [
    {
     "data": {
      "text/plain": [
       "array([[149, 130],\n",
       "       [106,  97],\n",
       "       [ 16,  22]])"
      ]
     },
     "execution_count": 7,
     "metadata": {},
     "output_type": "execute_result"
    }
   ],
   "source": [
    "df.T"
   ]
  },
  {
   "cell_type": "code",
   "execution_count": 87,
   "id": "3f6ec79a-4742-49a9-86dd-e818b73c8c99",
   "metadata": {},
   "outputs": [],
   "source": [
    "sort_by_cols = df.transpose()\n",
    "x = np.delete(sort_by_cols, 2, 0)\n",
    "y = sort_by_cols[2]"
   ]
  },
  {
   "cell_type": "code",
   "execution_count": 89,
   "id": "aaff1933-4738-4e87-84a6-8bb67db21011",
   "metadata": {},
   "outputs": [
    {
     "data": {
      "text/plain": [
       "array([0.02366112, 0.0223648 , 1.90577436])"
      ]
     },
     "execution_count": 89,
     "metadata": {},
     "output_type": "execute_result"
    }
   ],
   "source": [
    "# Add a column of 1s for the intercept\n",
    "x_b = np.c_[np.ones((x.shape[0], 1)), x]\n",
    "\n",
    "# Compute beta_hat = (X^T X)^(-1) X^T y\n",
    "beta_hat = np.linalg.pinv(x_b) @ y\n",
    "beta_hat"
   ]
  },
  {
   "cell_type": "code",
   "execution_count": 113,
   "id": "576025fe-0eb6-4731-bc6b-859a11bb9b2a",
   "metadata": {},
   "outputs": [
    {
     "data": {
      "image/png": "[encoded data removed]",
      "text/plain": [
       "<Figure size 200x200 with 1 Axes>"
      ]
     },
     "metadata": {},
     "output_type": "display_data"
    }
   ],
   "source": [
    "eq = beta_hat[0] + beta_hat[1]*x[0] + beta_hat[2]*x[1]\n",
    "\n",
    "plt.style.use('_mpl-gallery')\n",
    "\n",
    "fig, ax = plt.subplots(subplot_kw={\"projection\": \"3d\"})\n",
    "ax.scatter(x[0], y)\n",
    "ax.scatter(x[1], y)\n",
    "ax.plot(x[0], x[1], eq)\n",
    "\n",
    "ax.set(xticklabels=[],\n",
    "       yticklabels=[],\n",
    "       zticklabels=[])\n",
    "\n",
    "plt.show()"
   ]
  },
  {
   "cell_type": "code",
   "execution_count": 25,
   "id": "b364ce99-e476-4655-a33e-bfb01e1395ee",
   "metadata": {},
   "outputs": [
    {
     "data": {
      "text/plain": [
       "-0.16578218395881325"
      ]
     },
     "execution_count": 25,
     "metadata": {},
     "output_type": "execute_result"
    }
   ],
   "source": [
    "# y = mx + c\n",
    "\n",
    "sort_by_cols = df.transpose()\n",
    "x = sort_by_cols[0]\n",
    "y = sort_by_cols[1]\n",
    "\n",
    "x_avg = x.mean()\n",
    "y_avg = y.mean()\n",
    "\n",
    "m_num = 0\n",
    "for x_i, y_i in df:\n",
    "    m_num += (x_i - x_avg)*(y_i - y_avg)\n",
    "\n",
    "m_den = 0\n",
    "for x_i in x:\n",
    "    m_den += (x_i - x_avg)**2\n",
    "\n",
    "m = m_num / m_den\n",
    "m"
   ]
  },
  {
   "cell_type": "code",
   "execution_count": 27,
   "id": "2ff4387c-4b3e-4a04-a723-c129f9daf1ed",
   "metadata": {},
   "outputs": [
    {
     "data": {
      "text/plain": [
       "79.40169557939845"
      ]
     },
     "execution_count": 27,
     "metadata": {},
     "output_type": "execute_result"
    }
   ],
   "source": [
    "c = y_avg - m*x_avg\n",
    "c"
   ]
  },
  {
   "cell_type": "code",
   "execution_count": null,
   "id": "897b02fb-86f4-460f-9154-5d9bf06e6437",
   "metadata": {},
   "outputs": [],
   "source": []
  }
 ],
 "metadata": {
  "kernelspec": {
   "display_name": "Python 3 (ipykernel)",
   "language": "python",
   "name": "python3"
  },
  "language_info": {
   "codemirror_mode": {
    "name": "ipython",
    "version": 3
   },
   "file_extension": ".py",
   "mimetype": "text/x-python",
   "name": "python",
   "nbconvert_exporter": "python",
   "pygments_lexer": "ipython3",
   "version": "3.10.14"
  }
 },
 "nbformat": 4,
 "nbformat_minor": 5
}
