{
 "cells": [
  {
   "cell_type": "code",
   "execution_count": 2,
   "id": "0f8b97cb-2f9c-4694-b1e6-6400e2140c26",
   "metadata": {},
   "outputs": [],
   "source": [
    "import pandas as pd\n",
    "import matplotlib.pyplot as plt\n",
    "import numpy as np"
   ]
  },
  {
   "cell_type": "code",
   "execution_count": 34,
   "id": "d415fc99-dc73-4530-a3f9-918117b50720",
   "metadata": {},
   "outputs": [
    {
     "data": {
      "text/plain": [
       "array([[  6,   8],\n",
       "       [ 23, 148],\n",
       "       [ 44, 119]])"
      ]
     },
     "execution_count": 34,
     "metadata": {},
     "output_type": "execute_result"
    }
   ],
   "source": [
    "# x = np.arange(4*5, 4*(27+5), 2).reshape((9, 6))\n",
    "\n",
    "df = np.random.randint(0, 200, (3, 2))\n",
    "df"
   ]
  },
  {
   "cell_type": "code",
   "execution_count": 26,
   "id": "63c37a56-f654-4511-86fe-434c19ef935e",
   "metadata": {},
   "outputs": [
    {
     "data": {
      "text/plain": [
       "array([[ 72,  15,  45,  84, 173,  62],\n",
       "       [166,  98, 176, 172,   3,  53],\n",
       "       [126, 169, 163, 195, 111, 183],\n",
       "       [ 37,   4,  48,   1,   9, 188],\n",
       "       [  8,  84,  18,  64,  21,  92],\n",
       "       [ 44,  82,  60,  53,  69, 181],\n",
       "       [ 69,  52, 152,  77,  29, 164],\n",
       "       [ 22,  62,  76, 117,  51,  35],\n",
       "       [170, 128, 153,  18,  88,  79]])"
      ]
     },
     "execution_count": 26,
     "metadata": {},
     "output_type": "execute_result"
    }
   ],
   "source": [
    "df.T"
   ]
  },
  {
   "cell_type": "code",
   "execution_count": 28,
   "id": "3f6ec79a-4742-49a9-86dd-e818b73c8c99",
   "metadata": {},
   "outputs": [],
   "source": [
    "sort_by_cols = df.transpose()\n",
    "x = np.delete(sort_by_cols, 2, 0)\n",
    "y = sort_by_cols[2]"
   ]
  },
  {
   "cell_type": "code",
   "execution_count": 30,
   "id": "aaff1933-4738-4e87-84a6-8bb67db21011",
   "metadata": {},
   "outputs": [
    {
     "ename": "ValueError",
     "evalue": "matmul: Input operand 1 has a mismatch in its core dimension 0, with gufunc signature (n?,k),(k,m?)->(n?,m?) (size 6 is different from 8)",
     "output_type": "error",
     "traceback": [
      "\u001b[0;31m---------------------------------------------------------------------------\u001b[0m",
      "\u001b[0;31mValueError\u001b[0m                                Traceback (most recent call last)",
      "Cell \u001b[0;32mIn[30], line 5\u001b[0m\n\u001b[1;32m      2\u001b[0m x_b \u001b[38;5;241m=\u001b[39m np\u001b[38;5;241m.\u001b[39mc_[np\u001b[38;5;241m.\u001b[39mones((x\u001b[38;5;241m.\u001b[39mshape[\u001b[38;5;241m0\u001b[39m], \u001b[38;5;241m1\u001b[39m)), x]\n\u001b[1;32m      4\u001b[0m \u001b[38;5;66;03m# Compute beta_hat = (X^T X)^(-1) X^T y\u001b[39;00m\n\u001b[0;32m----> 5\u001b[0m beta_hat \u001b[38;5;241m=\u001b[39m np\u001b[38;5;241m.\u001b[39mlinalg\u001b[38;5;241m.\u001b[39minv(x_b\u001b[38;5;241m.\u001b[39mT \u001b[38;5;241m@\u001b[39m x_b) \u001b[38;5;241m@\u001b[39m (\u001b[43mx_b\u001b[49m\u001b[38;5;241;43m.\u001b[39;49m\u001b[43mT\u001b[49m\u001b[43m \u001b[49m\u001b[38;5;241;43m@\u001b[39;49m\u001b[43m \u001b[49m\u001b[43my\u001b[49m)\n",
      "\u001b[0;31mValueError\u001b[0m: matmul: Input operand 1 has a mismatch in its core dimension 0, with gufunc signature (n?,k),(k,m?)->(n?,m?) (size 6 is different from 8)"
     ]
    }
   ],
   "source": [
    "# Add a column of 1s for the intercept\n",
    "x_b = np.c_[np.ones((x.shape[0], 1)), x]\n",
    "\n",
    "# Compute beta_hat = (X^T X)^(-1) X^T y\n",
    "beta_hat = np.linalg.inv(x_b.T @ x_b) @ (x_b.T @ y)"
   ]
  },
  {
   "cell_type": "code",
   "execution_count": 20,
   "id": "ecf75b67-c3d0-4f7b-9023-da73a5808486",
   "metadata": {},
   "outputs": [
    {
     "data": {
      "text/plain": [
       "array([[  1., 127.,  32.],\n",
       "       [  1., 117., 142.]])"
      ]
     },
     "execution_count": 20,
     "metadata": {},
     "output_type": "execute_result"
    }
   ],
   "source": [
    "x_b"
   ]
  },
  {
   "cell_type": "code",
   "execution_count": 22,
   "id": "922c9b4f-8de0-44cf-ba3c-6d8b84ce7e22",
   "metadata": {},
   "outputs": [
    {
     "data": {
      "text/plain": [
       "array([27.81054688, -0.13575745,  0.1011219 ])"
      ]
     },
     "execution_count": 22,
     "metadata": {},
     "output_type": "execute_result"
    }
   ],
   "source": [
    "beta_hat"
   ]
  },
  {
   "cell_type": "code",
   "execution_count": null,
   "id": "576025fe-0eb6-4731-bc6b-859a11bb9b2a",
   "metadata": {},
   "outputs": [],
   "source": [
    "eq = beta_hat[0] + beta_hat[1]*x[0] + beta_hat[2]*x[1]\n",
    "\n",
    "plt.style.use('_mpl-gallery')\n",
    "\n",
    "fig, ax = plt.subplots(subplot_kw={\"projection\": \"3d\"})\n",
    "ax.scatter(x[0], y)\n",
    "ax.scatter(x[1], y)\n",
    "ax.plot(x[0], x[1], eq)\n",
    "\n",
    "ax.set(xticklabels=[],\n",
    "       yticklabels=[],\n",
    "       zticklabels=[])\n",
    "\n",
    "plt.show()"
   ]
  },
  {
   "cell_type": "code",
   "execution_count": null,
   "id": "b364ce99-e476-4655-a33e-bfb01e1395ee",
   "metadata": {},
   "outputs": [],
   "source": [
    "# y = mx + c\n",
    "\n",
    "sort_by_cols = df.transpose()\n",
    "x = sort_by_cols[0]\n",
    "y = sort_by_cols[1]\n",
    "\n",
    "x_avg = x.mean()\n",
    "y_avg = y.mean()\n",
    "\n",
    "m_num = 0\n",
    "for x_i, y_i in df:\n",
    "    m_num += (x_i - x_avg)*(y_i - y_avg)\n",
    "\n",
    "m_den = 0\n",
    "for x_i in x:\n",
    "    m_den += (x_i - x_avg)**2\n",
    "\n",
    "m = m_num / m_den\n",
    "m"
   ]
  },
  {
   "cell_type": "code",
   "execution_count": null,
   "id": "2ff4387c-4b3e-4a04-a723-c129f9daf1ed",
   "metadata": {},
   "outputs": [],
   "source": [
    "c = y_avg - m*x_avg\n",
    "c"
   ]
  },
  {
   "cell_type": "code",
   "execution_count": null,
   "id": "897b02fb-86f4-460f-9154-5d9bf06e6437",
   "metadata": {},
   "outputs": [],
   "source": []
  }
 ],
 "metadata": {
  "kernelspec": {
   "display_name": "Python 3 (ipykernel)",
   "language": "python",
   "name": "python3"
  },
  "language_info": {
   "codemirror_mode": {
    "name": "ipython",
    "version": 3
   },
   "file_extension": ".py",
   "mimetype": "text/x-python",
   "name": "python",
   "nbconvert_exporter": "python",
   "pygments_lexer": "ipython3",
   "version": "3.10.14"
  }
 },
 "nbformat": 4,
 "nbformat_minor": 5
}
